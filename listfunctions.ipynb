{
 "cells": [
  {
   "cell_type": "code",
   "execution_count": 3,
   "id": "0c023aaf-169c-4fc5-9351-782b3bcf7162",
   "metadata": {},
   "outputs": [
    {
     "name": "stdout",
     "output_type": "stream",
     "text": [
      "[3000, 5000, 1000, 2000, 'python']\n",
      "[3000, 5000, 1000, 2000, 'python']\n"
     ]
    }
   ],
   "source": [
    "a=1000\n",
    "b=2000\n",
    "s=\"python\"\n",
    "l=[3000,4000,a,b,s]\n",
    "k=l\n",
    "k[1]=5000\n",
    "print(l)\n",
    "print(k)"
   ]
  },
  {
   "cell_type": "code",
   "execution_count": null,
   "id": "3405533f-600d-418d-bc69-e21a2bb5481f",
   "metadata": {},
   "outputs": [],
   "source": []
  }
 ],
 "metadata": {
  "kernelspec": {
   "display_name": "Python 3 (ipykernel)",
   "language": "python",
   "name": "python3"
  },
  "language_info": {
   "codemirror_mode": {
    "name": "ipython",
    "version": 3
   },
   "file_extension": ".py",
   "mimetype": "text/x-python",
   "name": "python",
   "nbconvert_exporter": "python",
   "pygments_lexer": "ipython3",
   "version": "3.12.4"
  }
 },
 "nbformat": 4,
 "nbformat_minor": 5
}
