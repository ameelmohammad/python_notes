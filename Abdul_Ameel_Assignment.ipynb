{
 "cells": [
  {
   "cell_type": "markdown",
   "id": "cebd35c7-bc2e-4656-a24d-7b498af94537",
   "metadata": {},
   "source": [
    "#### 1.Take the input from the user for(Total number of people,Number of seats for bus. Based on two inputs Decide how many number of buses required\n"
   ]
  },
  {
   "cell_type": "code",
   "execution_count": null,
   "id": "1be808a6-71fa-49cf-af35-c6276fd0988b",
   "metadata": {},
   "outputs": [],
   "source": [
    "No_of_seats = int(input('seats'))\n",
    "No_of_people = int(input('people'))\n",
    "no_of_buses_needed = No_of_people // No_of_seats\n",
    "print(no_of_buses_needed)"
   ]
  },
  {
   "cell_type": "markdown",
   "id": "d2dd525f-e703-4d18-9d8c-2f0d6d8fa39a",
   "metadata": {},
   "source": [
    "#### 2. take temperature from the user and convert foreign heat -> Celsius.\n"
   ]
  },
  {
   "cell_type": "code",
   "execution_count": null,
   "id": "b09744e0-2952-4b14-b111-2bf06178cf30",
   "metadata": {},
   "outputs": [],
   "source": [
    "foriegnheat=float(97.5)\n",
    "celsius= (foriegnheat-32)*5/9\n",
    "print(f\"Temperature in Celsius: {celsius:.2f}°C\")"
   ]
  },
  {
   "cell_type": "markdown",
   "id": "5574bdeb-cbe9-4665-988f-a098441366a1",
   "metadata": {},
   "source": [
    "#### 3. Take temperature from the user and convert Celsius → foreign heat\n"
   ]
  },
  {
   "cell_type": "code",
   "execution_count": null,
   "id": "e2c6bc68-7001-4155-bd1d-424f1ec7f140",
   "metadata": {},
   "outputs": [],
   "source": [
    "celusis = float(37.59)\n",
    "foriegnheat = (celsius * 9 / 5) + 32\n",
    "print(f\"temperature in foriegnheat: {foriegnheat:.2f}°F\")"
   ]
  },
  {
   "cell_type": "raw",
   "id": "b1af4bb6-1e9d-4a8f-80b9-dc6b3503b6e3",
   "metadata": {},
   "source": [
    "4 take four number from the user (variables name it as x1,x2,x3,x4)  Do the below operations (x1+x2)**2, (x3+x4)**3\n",
    "variance\n",
    " standard deviation: sqrt(variance):  User math module. Math.sqrt(variance)\n",
    " Regression\n",
    " \ty=mx+b\n",
    "          m=1.23\n",
    "         b=0.045\n",
    "          find out y\n",
    "        y=m*(x1+x2+x3+x4)+b\n",
    "   Find the average of four numbers Find the sum of four numbers"
   ]
  },
  {
   "cell_type": "code",
   "execution_count": null,
   "id": "6bd7d6e5-8887-43aa-8c82-8f851eba29ed",
   "metadata": {},
   "outputs": [],
   "source": [
    "import math \n",
    "x1 = int(input(\"Enter the value of x1: \"))\n",
    "x2 = int(input(\"Enter the value of x2: \"))\n",
    "x3 = int(input(\"Enter the value of x3: \"))\n",
    "x4 = int(input(\"Enter the value of x4: \"))\n",
    "\n",
    "# Calculating the expressions\n",
    "result1 = (x1 + x2) ** 2\n",
    "result2 = (x3 + x4) ** 3\n",
    "\n",
    "# Printing the results\n",
    "print(\"The result of (x1 + x2)^2 is:\", result1)\n",
    "print(\"The result of (x3 + x4)^3 is:\", result2)\n",
    "\n",
    "### mean value \n",
    "mean = (x1 + x2+ x3 + x4 )//4 \n",
    "print(mean)\n",
    "## Squared Differences\n",
    "numbers = (x1 , x2, x3 , x4 )\n",
    "sum_sqd_numbers = 0\n",
    "sqd_numbers = []\n",
    "for i in numbers:\n",
    "    sqd = (i - mean) ** 2\n",
    "    sum_sqd_numbers += sqd\n",
    "    sqd_numbers.append(sqd)\n",
    "variance = sum_sqd_numbers/(4-1)\n",
    "print(\" variance : \",variance)    \n",
    "# standard deviationRegression\n",
    "std_dev = math.sqrt(variance)\n",
    "#print(std_dev)\n",
    "# Regression\n",
    "\n",
    "## y=mx+b\n",
    "m=1.23\n",
    "b=0.045\n",
    "y  =  m * (x1+x2+x3+x4) +b\n",
    "print(\"regression : \", y)\n",
    "print(\"standard deviationRegression : \",std_dev)\n",
    "print(\"average of four numbers : \",mean)\n",
    "print(\"sum of 4 numbers : \",(x1+x2+x3+x4))\n",
    "\n"
   ]
  },
  {
   "cell_type": "markdown",
   "id": "4b002907-1ad0-4873-9089-82cc9df97c4d",
   "metadata": {},
   "source": [
    "#### 5.Take the distance in km Show that in cm, meters, in milli meters, cents, feets, yards\n"
   ]
  },
  {
   "cell_type": "code",
   "execution_count": null,
   "id": "d1e72494-b3b5-42f0-8165-03ef56044d3a",
   "metadata": {},
   "outputs": [],
   "source": [
    "kilometers = int(input(\"Enter the value in Kms:\"))\n",
    "meters = kilometers * 1000\n",
    "centimeters = kilometers * 100000\n",
    "millimeters = kilometers * 1000000\n",
    "feet = kilometers * 3280.84  # feet\n",
    "yards = kilometers * 1093.61  # yards\n",
    "cents = kilometers * 247.105  # cents (land area)\n",
    "print(\"meters\",meters)\n",
    "print(\"centimeters\",centimeters)\n",
    "print(\"millimeters\",millimeters)\n",
    "print(\"feet\",feet)\n",
    "print(\"yards\",yards)\n",
    "print(\"cents\",cents)"
   ]
  },
  {
   "cell_type": "markdown",
   "id": "405e4b48-9138-47e0-aaed-e72dcd6fe8b0",
   "metadata": {},
   "source": [
    "#### 6.Take the size of your hard disk in GB Show that in MB, KB, TB, PB\n"
   ]
  },
  {
   "cell_type": "code",
   "execution_count": null,
   "id": "89d07eea-4eef-47d2-84c1-d2ac281093ae",
   "metadata": {},
   "outputs": [],
   "source": [
    "GB = int(input(\"enter a gb value\"))\n",
    "MB = GB*1024\n",
    "KB = GB*1024*1024\n",
    "TB=GB/1024\n",
    "PB=GB/(1024*1024)\n",
    "print(MB)\n",
    "print(KB)\n",
    "print(TB)\n",
    "print(PB)"
   ]
  },
  {
   "cell_type": "markdown",
   "id": "0e305ed8-0bb0-408c-87b2-6ab7304e272f",
   "metadata": {},
   "source": [
    "#### 7.  Take name, age, height from the user and print like below The details of the person: Name:name of the person, Age:age of the person, Height:height of the person"
   ]
  },
  {
   "cell_type": "code",
   "execution_count": null,
   "id": "76ba644a-01fd-4d63-b820-54b60212a8af",
   "metadata": {},
   "outputs": [],
   "source": [
    "#Note: make sure that no space between : and a value and should be space after “COMA”\n",
    "name = \"Jayaram\"\n",
    "age = 1.6\n",
    "height = 3.5356234\n",
    "weight = 10.343856783\n",
    "\n",
    "print(\"Name: %s, Age: %.1f, Height: %.2f, Weight: %.3f\" % (name, age, height, weight))\n"
   ]
  },
  {
   "cell_type": "markdown",
   "id": "c89b557a-1719-48d9-8982-60a90ab84402",
   "metadata": {},
   "source": [
    "#### 8. BMI calculation: take required parameters for BMI calculation from the user and calculate BMI of the person\n"
   ]
  },
  {
   "cell_type": "code",
   "execution_count": null,
   "id": "00b0b521-ee29-407c-8f27-ae902c454f7d",
   "metadata": {},
   "outputs": [],
   "source": [
    "weight = float(input(\"enter weight:\"))\n",
    "height = float(input(\"enter height:\"))\n",
    "bmi = weight / (height ** 2)\n",
    "print(\"bmi\",bmi)"
   ]
  },
  {
   "cell_type": "raw",
   "id": "d6c284ba-08f5-4d61-a214-95aec9b3caea",
   "metadata": {},
   "source": [
    "#### 9. name=\"Jayaram\"\n",
    "age=1.6\n",
    "height=3.5356234\n",
    "weight=10.343856783\n",
    "By using above inputs print the output\n"
   ]
  },
  {
   "cell_type": "code",
   "execution_count": null,
   "id": "502a6d26-e94f-45a7-b4d1-14a33c991c1b",
   "metadata": {},
   "outputs": [],
   "source": [
    "Name = str(input(\"Enter a name:\"))\n",
    "age = float(input(\"enter your age:\"))\n",
    "height = float(input(\"enter your height:\"))\n",
    "weight = float(input(\"enter your weight:\"))\n",
    "print(\"Name:%s, age:%f, height:%f, weight:%f\"%(Name,age,height,weight))"
   ]
  },
  {
   "cell_type": "markdown",
   "id": "9f7975e7-48bf-4cf3-9072-1f56235e5b3e",
   "metadata": {},
   "source": [
    "#### 10. Take three upper case letters from the user convert in to small case."
   ]
  },
  {
   "cell_type": "code",
   "execution_count": null,
   "id": "ac5712cc-7bba-49db-ae5c-c2f4aaab26ad",
   "metadata": {},
   "outputs": [],
   "source": [
    "letter1 = input(\"Enter the first uppercase letter: \")\n",
    "letter2 = input(\"Enter the second uppercase letter: \")\n",
    "letter3 = input(\"Enter the third uppercase letter: \")\n",
    "lowercase1 = chr(ord(letter1) + 32)\n",
    "lowercase2 = chr(ord(letter2) + 32)\n",
    "lowercase3 = chr(ord(letter3) + 32)\n",
    "\n",
    "\n",
    "print(f\"Lowercase letters: {lowercase1}, {lowercase2}, {lowercase3}\")\n"
   ]
  },
  {
   "cell_type": "markdown",
   "id": "39b2378b-d9bf-4ecc-bb37-170498777ad5",
   "metadata": {},
   "source": [
    "#### 11. take base and exponent value from the user and print like in mathematics:\n",
    "####   example: base=2, exponent=3: 23\n",
    "#### Use: 2\\u00b3"
   ]
  },
  {
   "cell_type": "code",
   "execution_count": null,
   "id": "dfd9b392-acb3-4a69-9e7e-b620b5548407",
   "metadata": {},
   "outputs": [],
   "source": [
    "\n",
    "base = int(input(\"Enter the base: \"))\n",
    "exponent = int(input(\"Enter the exponent: \"))\n",
    "\n",
    "# Convert exponent to superscript using Unicode\n",
    "superscripts = {\n",
    "    '0': '\\u2070', '1': '\\u00b9', '2': '\\u00b2', '3': '\\u00b3', \n",
    "    '4': '\\u2074', '5': '\\u2075', '6': '\\u2076', '7': '\\u2077', \n",
    "    '8': '\\u2078', '9': '\\u2079'\n",
    "}\n",
    "exponent_str = ''.join(superscripts[digit] for digit in str(exponent))\n",
    "\n",
    "# Display the result in the mathematical format\n",
    "print(f\"{base}{exponent_str}\")\n"
   ]
  },
  {
   "cell_type": "markdown",
   "id": "69127a9d-030d-40e2-aa12-345b9c5c3a70",
   "metadata": {},
   "source": [
    "#### 12.Take some groceries cost prices and print total cost and average cost, what is the max cost, what is the minimum cost.\n"
   ]
  },
  {
   "cell_type": "code",
   "execution_count": null,
   "id": "49d15e45-ada3-4644-a2f7-b97760fc3c76",
   "metadata": {},
   "outputs": [],
   "source": [
    "groceries = [10,57,45,38]\n",
    "print(\"max:\",max(groceries))\n",
    "print(\"min:\",min(groceries))\n",
    "groceries_sum=sum(groceries)\n",
    "print(\"sum:\",groceries_sum,)\n",
    "count_groceries=len(groceries)\n",
    "print(\"count:\",count_groceries,)\n",
    "avg = groceries_sum / count_groceries\n",
    "print(\"avg:\",avg)\n"
   ]
  },
  {
   "cell_type": "code",
   "execution_count": null,
   "id": "3491abe0-b9d2-4b0d-91ed-fb23c1bad7e8",
   "metadata": {},
   "outputs": [],
   "source": [
    "\n"
   ]
  },
  {
   "cell_type": "code",
   "execution_count": null,
   "id": "527e7e56-f153-453a-87f2-9840194c20f5",
   "metadata": {},
   "outputs": [],
   "source": []
  }
 ],
 "metadata": {
  "kernelspec": {
   "display_name": "Python 3 (ipykernel)",
   "language": "python",
   "name": "python3"
  },
  "language_info": {
   "codemirror_mode": {
    "name": "ipython",
    "version": 3
   },
   "file_extension": ".py",
   "mimetype": "text/x-python",
   "name": "python",
   "nbconvert_exporter": "python",
   "pygments_lexer": "ipython3",
   "version": "3.12.4"
  }
 },
 "nbformat": 4,
 "nbformat_minor": 5
}
