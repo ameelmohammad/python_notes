{
 "cells": [
  {
   "cell_type": "code",
   "execution_count": 5,
   "id": "05735375-127b-49ed-b5ec-676fbc7a35d4",
   "metadata": {},
   "outputs": [
    {
     "name": "stdin",
     "output_type": "stream",
     "text": [
      "enter customer name Anil\n",
      "enter sales order 3025\n",
      "enter profit 50000\n"
     ]
    },
    {
     "name": "stdout",
     "output_type": "stream",
     "text": [
      "TheAnil is a very good customer,bought\n"
     ]
    }
   ],
   "source": [
    "#the anil is a very good customer,bought 3025 sales orders from our portal we got 50000 profit beacuse of anil\n",
    "customer_name = input(\"enter customer name\")\n",
    "number_of_sales_order = input (\"enter sales order\")\n",
    "profit = input(\"enter profit\")\n",
    "s = \"The\"+ customer_name + \" is a very good customer,bought\" \n",
    "print(s)"
   ]
  },
  {
   "cell_type": "code",
   "execution_count": 7,
   "id": "adb9607b-20ec-453d-adf0-9de387e88128",
   "metadata": {},
   "outputs": [
    {
     "name": "stdin",
     "output_type": "stream",
     "text": [
      "enter customer name anil\n",
      "enter sales order 3025\n",
      "enter profit 50000\n"
     ]
    },
    {
     "name": "stdout",
     "output_type": "stream",
     "text": [
      "The anil is a very good customer,bought\n"
     ]
    }
   ],
   "source": [
    "#the anil is a very good customer,bought 3025 sales orders from our portal we got 50000 profit beacuse of anil\n",
    "customer_name = input(\"enter customer name\")\n",
    "number_of_sales_order = input (\"enter sales order\")\n",
    "profit = input(\"enter profit\")\n",
    "s = \"The \"+ customer_name + \" is a very good customer,bought\" \n",
    "print(s)"
   ]
  },
  {
   "cell_type": "code",
   "execution_count": 16,
   "id": "d7d0b83d-2e1c-4886-96da-dbf82f0cc358",
   "metadata": {},
   "outputs": [
    {
     "name": "stdin",
     "output_type": "stream",
     "text": [
      "enter customer name Anil\n",
      "enter sales order 3025\n",
      "enter profit 50000\n"
     ]
    },
    {
     "name": "stdout",
     "output_type": "stream",
     "text": [
      "TheAnil is a very good customer,boughtnumber_of_sales_order\n"
     ]
    }
   ],
   "source": [
    "#the anil is a very good customer,bought 3025 sales orders from our portal we got 50000 profit beacuse of anil\n",
    "customer_name = input(\"enter customer name\")\n",
    "number_of_sales_order = input (\"enter sales order\")\n",
    "profit = input(\"enter profit\")\n",
    "s = \"The\"+ customer_name + \" is a very good customer, bought\"+ \"number_of_sales_order\"  \n",
    "print(s)"
   ]
  },
  {
   "cell_type": "code",
   "execution_count": 18,
   "id": "839d2387-b9d0-4552-b16e-aaade0302bda",
   "metadata": {},
   "outputs": [
    {
     "name": "stdin",
     "output_type": "stream",
     "text": [
      "enter customer name anil\n",
      "enter sales order 3024\n",
      "enter profit 50000\n"
     ]
    },
    {
     "name": "stdout",
     "output_type": "stream",
     "text": [
      "Theanil is a very good customer, boughtnumber_of_sales_order\n"
     ]
    }
   ],
   "source": [
    "#the anil is a very good customer,bought 3025 sales orders from our portal we got 50000 profit beacuse of anil\n",
    "customer_name = input(\"enter customer name\")\n",
    "number_of_sales_order = input (\"enter sales order\")\n",
    "profit = input(\"enter profit\")\n",
    "s = \"The\"+ customer_name + \" is a very good customer, bought\"+ \"number_of_sales_order\"  \n",
    "print(s)"
   ]
  },
  {
   "cell_type": "code",
   "execution_count": 1,
   "id": "291354b9-99ff-4f5e-b31f-775d21afebe4",
   "metadata": {},
   "outputs": [
    {
     "name": "stdin",
     "output_type": "stream",
     "text": [
      "enter customer name anil\n",
      "enter sales order 3025\n",
      "enter profit 50000\n"
     ]
    },
    {
     "name": "stdout",
     "output_type": "stream",
     "text": [
      "The anil is a very good customer, bought number_of_sales_order\n"
     ]
    }
   ],
   "source": [
    "#the anil is a very good customer,bought 3025 sales orders from our portal we got 50000 profit beacuse of anil\n",
    "customer_name = input(\"enter customer name\")\n",
    "number_of_sales_order = input (\"enter sales order\")\n",
    "profit = input(\"enter profit\")\n",
    "s = \"The \"+ customer_name + \" is a very good customer, bought \"+ \"number_of_sales_order\"  \n",
    "print(s)"
   ]
  },
  {
   "cell_type": "code",
   "execution_count": 3,
   "id": "1195f9cf-7bb1-4c3e-8158-a82b684016d3",
   "metadata": {},
   "outputs": [
    {
     "name": "stdin",
     "output_type": "stream",
     "text": [
      "enter customer name anil\n"
     ]
    },
    {
     "name": "stdout",
     "output_type": "stream",
     "text": [
      " The customer_name is a very good customer, bought\n"
     ]
    }
   ],
   "source": [
    "#the anil is a very good customer,bought 3025 sales orders from our portal we got 50000 profit beacuse of anil\n",
    "customer_name = input(\"enter customer name\")\n",
    "print(\" The customer_name is a very good customer, bought\")"
   ]
  },
  {
   "cell_type": "code",
   "execution_count": 5,
   "id": "9ceb8343-8ecc-410f-b34b-644f93011cfa",
   "metadata": {},
   "outputs": [
    {
     "name": "stdin",
     "output_type": "stream",
     "text": [
      "enter customer name anil\n"
     ]
    },
    {
     "name": "stdout",
     "output_type": "stream",
     "text": [
      " The {customer_name} is a very good customer, bought\n"
     ]
    }
   ],
   "source": [
    "#the anil is a very good customer,bought 3025 sales orders from our portal we got 50000 profit beacuse of anil\n",
    "customer_name = input(\"enter customer name\")\n",
    "print(\" The {customer_name} is a very good customer, bought\")"
   ]
  },
  {
   "cell_type": "code",
   "execution_count": 7,
   "id": "bbd369da-c180-4cde-a637-9f0bf6e57fd3",
   "metadata": {},
   "outputs": [
    {
     "name": "stdin",
     "output_type": "stream",
     "text": [
      "enter customer name anil\n"
     ]
    },
    {
     "name": "stdout",
     "output_type": "stream",
     "text": [
      "The customer_name is a very good customer, bought\n"
     ]
    }
   ],
   "source": [
    "#the anil is a very good customer,bought 3025 sales orders from our portal we got 50000 profit beacuse of anil\n",
    "customer_name = input(\"enter customer name\")\n",
    "print(f\"The customer_name is a very good customer, bought\")#f is f string or template string"
   ]
  },
  {
   "cell_type": "code",
   "execution_count": 11,
   "id": "ac049e47-cabf-4a22-9b3b-7e72255d554d",
   "metadata": {},
   "outputs": [
    {
     "name": "stdin",
     "output_type": "stream",
     "text": [
      "enter customer name: anil\n"
     ]
    },
    {
     "name": "stdout",
     "output_type": "stream",
     "text": [
      " The anil is a very good customer, bought\n"
     ]
    }
   ],
   "source": [
    "#the anil is a very good customer,bought 3025 sales orders from our portal we got 50000 profit beacuse of anil\n",
    "customer_name = input(\"enter customer name:\")\n",
    "print(f\" The {customer_name} is a very good customer, bought\")"
   ]
  },
  {
   "cell_type": "code",
   "execution_count": 13,
   "id": "8f4b1517-f805-451c-a2f2-5e7259b7d93a",
   "metadata": {},
   "outputs": [
    {
     "name": "stdin",
     "output_type": "stream",
     "text": [
      "customername anil\n"
     ]
    },
    {
     "name": "stdout",
     "output_type": "stream",
     "text": [
      " the anil is\n"
     ]
    }
   ],
   "source": [
    "x = input(\"customername\")\n",
    "print(f\" the {x} is\")"
   ]
  },
  {
   "cell_type": "code",
   "execution_count": 15,
   "id": "5f6f3d6a-d079-4ebd-acda-bd3edae4ab12",
   "metadata": {},
   "outputs": [
    {
     "ename": "TypeError",
     "evalue": "can only concatenate str (not \"int\") to str",
     "output_type": "error",
     "traceback": [
      "\u001b[1;31m---------------------------------------------------------------------------\u001b[0m",
      "\u001b[1;31mTypeError\u001b[0m                                 Traceback (most recent call last)",
      "Cell \u001b[1;32mIn[15], line 2\u001b[0m\n\u001b[0;32m      1\u001b[0m a\u001b[38;5;241m=\u001b[39m\u001b[38;5;241m1000\u001b[39m\n\u001b[1;32m----> 2\u001b[0m \u001b[38;5;28mprint\u001b[39m(\u001b[38;5;124m\"\u001b[39m\u001b[38;5;124mthe product:\u001b[39m\u001b[38;5;124m\"\u001b[39m\u001b[38;5;241m+\u001b[39ma)\n",
      "\u001b[1;31mTypeError\u001b[0m: can only concatenate str (not \"int\") to str"
     ]
    }
   ],
   "source": [
    "a=1000\n",
    "print(\"the product:\"+a)"
   ]
  },
  {
   "cell_type": "code",
   "execution_count": 17,
   "id": "16ba87d4-ce1b-41d6-9654-e08230cb1a63",
   "metadata": {},
   "outputs": [
    {
     "name": "stdout",
     "output_type": "stream",
     "text": [
      "the product:1000\n"
     ]
    }
   ],
   "source": [
    "a=1000\n",
    "print(\"the product:\"+str(a))"
   ]
  },
  {
   "cell_type": "code",
   "execution_count": 29,
   "id": "c619c568-3b61-4e62-b17a-27f1d5d9715d",
   "metadata": {},
   "outputs": [
    {
     "name": "stdout",
     "output_type": "stream",
     "text": [
      " the product:+1000\n"
     ]
    }
   ],
   "source": [
    "a=1000\n",
    "print(f\" the product:+{a}\")"
   ]
  },
  {
   "cell_type": "code",
   "execution_count": null,
   "id": "b5d19720-ad43-4e1d-ae13-ff1f139988c0",
   "metadata": {},
   "outputs": [],
   "source": []
  }
 ],
 "metadata": {
  "kernelspec": {
   "display_name": "Python 3 (ipykernel)",
   "language": "python",
   "name": "python3"
  },
  "language_info": {
   "codemirror_mode": {
    "name": "ipython",
    "version": 3
   },
   "file_extension": ".py",
   "mimetype": "text/x-python",
   "name": "python",
   "nbconvert_exporter": "python",
   "pygments_lexer": "ipython3",
   "version": "3.12.4"
  }
 },
 "nbformat": 4,
 "nbformat_minor": 5
}
