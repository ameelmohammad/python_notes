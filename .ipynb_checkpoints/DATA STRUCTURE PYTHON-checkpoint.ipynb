{
 "cells": [
  {
   "cell_type": "code",
   "execution_count": 3,
   "id": "e7c970fa-4c28-407b-9665-e79707481feb",
   "metadata": {},
   "outputs": [
    {
     "name": "stdout",
     "output_type": "stream",
     "text": [
      "[10] rama\n",
      "[10, 20] rama\n",
      "[10, 20, 30] rama\n",
      "[10, 20, 30, 40, 50, 60] krishna\n",
      "[10, 20, 30, 40, 50, 60, 70] rama\n",
      "[10, 20, 30, 40, 50, 60, 70, 80, 90, 20] krishna\n"
     ]
    }
   ],
   "source": [
    "#DATA STRUCTURES\n",
    "#79. l=[10,20,30,[40,50,60],70,[80,90,20]]. Convert this list as single dimensional list\n",
    "\n",
    "l=[10,20,30,[40,50,60],70,[80,90,20]]\n",
    "k = []\n",
    "\n",
    "for i in l :\n",
    "    if isinstance(i,list):\n",
    "        k.extend(i)\n",
    "        print(k,\"krishna\")\n",
    "    else:\n",
    "        k.append(i)\n",
    "        print(k,\"rama\")"
   ]
  },
  {
   "cell_type": "code",
   "execution_count": null,
   "id": "49610d22-dd1d-4167-8707-51e039f802c9",
   "metadata": {},
   "outputs": [],
   "source": [
    "#80. input: \"Google\" print count of each character \n",
    "x = input(\"Enter your string:\")\n",
    "count = 0\n",
    "for char in x:\n",
    "    count = count + 1\n",
    "print(\"count: \",count)"
   ]
  },
  {
   "cell_type": "code",
   "execution_count": 8,
   "id": "9bf4d31f-e303-4894-8afc-235cd540f42d",
   "metadata": {},
   "outputs": [
    {
     "name": "stdout",
     "output_type": "stream",
     "text": [
      "[1, 2, 3, 4, 2, 3, 5, 6] rama\n",
      "[1, 2, 3, 4, 2, 3, 5, 6, 9, 10, 21] rama\n",
      "[1, 2, 3, 4, 2, 3, 5, 6, 9, 10, 21, 24]\n"
     ]
    }
   ],
   "source": [
    "#81. Convert n dimensional list to single dimensional list.\n",
    "k = [1,2,3,4,[2,3,5,6],9,[10,21],24]\n",
    "r = []\n",
    "for s in k:\n",
    "    if isinstance(s,list):\n",
    "        r.extend(s)\n",
    "        print(r,'rama')\n",
    "    else:\n",
    "        r.append(s)\n",
    "print(r)"
   ]
  },
  {
   "cell_type": "code",
   "execution_count": 10,
   "id": "b89fc944-05a8-4759-a4f3-4096c53c56ca",
   "metadata": {},
   "outputs": [
    {
     "name": "stdout",
     "output_type": "stream",
     "text": [
      "[1, 2, 3]\n",
      "<class 'str'>\n"
     ]
    }
   ],
   "source": [
    "#82. l=[1,2,3] just make it as a string.\n",
    "\n",
    "l = [1,2,3]\n",
    "k = str(l)\n",
    "print(k)\n",
    "print(type(k))\n"
   ]
  },
  {
   "cell_type": "code",
   "execution_count": 14,
   "id": "8e6c06fc-2aac-4a25-9a44-a3abdd5d87ca",
   "metadata": {},
   "outputs": [
    {
     "name": "stdout",
     "output_type": "stream",
     "text": [
      "[1, 2, 3, 4, 5, 6, 7, 8, 9, 10]\n"
     ]
    }
   ],
   "source": [
    "#83. l=[1,2,3,[4,5,6],7,[8,9,10]] for single dimensional list\n",
    "l = [1,2,3,[4,5,6],7,[8,9,10]]\n",
    "k = []\n",
    "for  s in l:\n",
    "    if isinstance(s,list):\n",
    "        k.extend(s)\n",
    "    else :\n",
    "        k.append(s)\n",
    "print(k)\n",
    "    "
   ]
  },
  {
   "cell_type": "code",
   "execution_count": 1,
   "id": "dd95b5d7-209f-49be-a87c-e5a75a9a9d7b",
   "metadata": {},
   "outputs": [
    {
     "ename": "SyntaxError",
     "evalue": "invalid syntax (804085136.py, line 5)",
     "output_type": "error",
     "traceback": [
      "\u001b[1;36m  Cell \u001b[1;32mIn[1], line 5\u001b[1;36m\u001b[0m\n\u001b[1;33m    k = [sum(int(l)) for i  in l:]\u001b[0m\n\u001b[1;37m                                ^\u001b[0m\n\u001b[1;31mSyntaxError\u001b[0m\u001b[1;31m:\u001b[0m invalid syntax\n"
     ]
    }
   ],
   "source": [
    "#84. l=['a','A','b','B','d','D','c','C'] WAP to find out case insensitive count and \n",
    "#85. case insensitive search for an element.\n",
    "l=['a','A','b','B','d','D','c','C']\n",
    "count = 0\n",
    "k = [sum(int(l)) for i  in l:]\n",
    "print(k)"
   ]
  },
  {
   "cell_type": "code",
   "execution_count": 3,
   "id": "d97b2903-929f-4d8c-8c59-b0f8e5cc5102",
   "metadata": {},
   "outputs": [
    {
     "name": "stdout",
     "output_type": "stream",
     "text": [
      "[1, 2, 3, 4]\n"
     ]
    }
   ],
   "source": [
    "#91. Remove duplicates from the list: a=[1,2,3,2,3,4,1,,3,4]\n",
    "a=[1,2,3,2,3,4,1,3,4]\n",
    "k = list(dict.fromkeys(a))\n",
    "print(k)"
   ]
  },
  {
   "cell_type": "code",
   "execution_count": null,
   "id": "24bbcfd8-f0a2-473d-a92e-09a4f74f3bd7",
   "metadata": {},
   "outputs": [],
   "source": [
    "#91. Remove duplicates from the list: a=[1,2,3,2,3,4,1,,3,4]\n",
    "a=[1,2,3,2,3,4,1,,3,4]\n"
   ]
  },
  {
   "cell_type": "code",
   "execution_count": 5,
   "id": "08e8a459-186c-4332-8be6-5b17b8a2bd3e",
   "metadata": {},
   "outputs": [
    {
     "name": "stdout",
     "output_type": "stream",
     "text": [
      "sume: 6\n"
     ]
    }
   ],
   "source": [
    "#92. l=['1','2','3'] get the sum of the list\n",
    "l = ['1', '2', '3']\n",
    "k = sum(int(i) for i in l)\n",
    "print(\"sume:\",k)\n"
   ]
  },
  {
   "cell_type": "code",
   "execution_count": 15,
   "id": "6b1ed471-f874-4fde-beff-ec1dc922d476",
   "metadata": {},
   "outputs": [
    {
     "data": {
      "text/plain": [
       "36"
      ]
     },
     "execution_count": 15,
     "metadata": {},
     "output_type": "execute_result"
    }
   ],
   "source": [
    "#93. l1=[1,2,3,4] l2=[5,6,7,8] sum of two lists\n",
    "\n",
    "l1 = [1,2,3,4] \n",
    "l2 = [5,6,7,8]\n",
    "k = l1  + l2\n",
    "k = sum(k)\n",
    "k"
   ]
  },
  {
   "cell_type": "code",
   "execution_count": 49,
   "id": "b75d7ccf-e752-4d89-9521-1a880ee4a026",
   "metadata": {},
   "outputs": [
    {
     "name": "stdin",
     "output_type": "stream",
     "text": [
      "Enter your list: 12\n"
     ]
    },
    {
     "name": "stdout",
     "output_type": "stream",
     "text": [
      "[1, 3, 5, 7, 9, 11]\n",
      "6\n",
      "[11, 9, 7, 5, 3, 1]\n",
      "11\n"
     ]
    }
   ],
   "source": [
    "#94. Find third max value of element in a list with soring and without sorting a list.\n",
    "\n",
    "k = int(input(\"Enter your list:\"))\n",
    "s = []\n",
    "for i in range(1,k,2):\n",
    "    s.append(i)\n",
    "print(s)\n",
    "k = len(s)\n",
    "print(k)\n",
    "s.reverse()\n",
    "\n",
    "print(s)\n",
    "\n"
   ]
  },
  {
   "cell_type": "code",
   "execution_count": 84,
   "id": "4bc74830-2f00-4a31-ab85-c6c1dda6a357",
   "metadata": {},
   "outputs": [
    {
     "name": "stdout",
     "output_type": "stream",
     "text": [
      "ODD_NUMBERS: 1\n",
      "EVEN_NUMBERS: 2\n",
      "ODD_NUMBERS: 3\n",
      "EVEN_NUMBERS: 4\n",
      "ODD_NUMBERS: 5\n",
      "EVEN_NUMBERS: 6\n",
      "EVEN_NUMBERS: 8\n",
      "EVEN_NUMBERS: 10\n"
     ]
    }
   ],
   "source": [
    "#97. input = 1,2,3,4,5,6,8,10 output = odd,even,odd,even,odd,even,even,even\n",
    "\n",
    "k = [1,2,3,4,5,6,8,10]\n",
    "for i in k:\n",
    "    if (i % 2 )== 0:\n",
    "        print(\"EVEN_NUMBERS:\",i)\n",
    "    else:\n",
    "        print(\"ODD_NUMBERS:\",i)\n",
    "\n",
    "    "
   ]
  },
  {
   "cell_type": "code",
   "execution_count": 98,
   "id": "33930f22-9fa2-42e5-ba2c-e1b1116b4774",
   "metadata": {},
   "outputs": [
    {
     "name": "stdin",
     "output_type": "stream",
     "text": [
      "Enter your string: kishore\n"
     ]
    },
    {
     "data": {
      "text/plain": [
       "{'k': 1, 'i': 1, 's': 1, 'h': 1, 'o': 1, 'r': 1, 'e': 1}"
      ]
     },
     "execution_count": 98,
     "metadata": {},
     "output_type": "execute_result"
    }
   ],
   "source": [
    "#99. input: Google\n",
    "    #output: {'g':2,'o':2,'l':1,'e':1} use dictionary comprehension\n",
    "from collections import Counter\n",
    "k = input(\"Enter your string:\")\n",
    "s = dict(Counter(k.lower()))\n",
    "s\n"
   ]
  },
  {
   "cell_type": "code",
   "execution_count": 142,
   "id": "d87b339a-23f8-4895-aa5e-9ec898c3a28e",
   "metadata": {},
   "outputs": [
    {
     "name": "stdin",
     "output_type": "stream",
     "text": [
      "Enter your number: 1000\n"
     ]
    },
    {
     "name": "stdout",
     "output_type": "stream",
     "text": [
      "[0, 6, 28, 496]\n"
     ]
    }
   ],
   "source": [
    "#103. find out all perfect numbers in given range\n",
    "k = int(input(\"Enter your number:\"))\n",
    "r = []\n",
    "if k == sum(i for i in range(1,num) if num % 2 == 0):\n",
    "    r.append(num)\n",
    "print(s)\n"
   ]
  },
  {
   "cell_type": "code",
   "execution_count": 161,
   "id": "9808adc4-55b1-43fa-b886-64b9625df9f9",
   "metadata": {},
   "outputs": [
    {
     "name": "stdin",
     "output_type": "stream",
     "text": [
      "enter your list: 12\n"
     ]
    },
    {
     "name": "stdout",
     "output_type": "stream",
     "text": [
      "[2, 3, 4, 5, 6, 7, 8, 9, 10, 11, 12]\n"
     ]
    }
   ],
   "source": [
    "#110. how to remove first n occurrences of the given element in a list\n",
    "\n",
    "k = int(input(\"enter your list:\"))\n",
    "list = []\n",
    "for i in range(1,k+1):\n",
    "    list.append(i)\n",
    "list.remove(1)\n",
    "print(list)\n",
    "    "
   ]
  },
  {
   "cell_type": "code",
   "execution_count": 169,
   "id": "f388445e-285e-45ce-9274-863a3f509951",
   "metadata": {},
   "outputs": [
    {
     "name": "stdin",
     "output_type": "stream",
     "text": [
      "Enter your list: 12\n"
     ]
    },
    {
     "name": "stdout",
     "output_type": "stream",
     "text": [
      "[1, 2, 3, 4, 5, 6, 7, 8, 9, 10, 11]\n"
     ]
    }
   ],
   "source": [
    "#111. how to remove last n occurrences of the given element in a list\n",
    "k = int(input(\"Enter your list:\"))\n",
    "list = []\n",
    "for i in range(1,k+1):\n",
    "    list.append(i)\n",
    "list.pop()\n",
    "print(list)"
   ]
  },
  {
   "cell_type": "code",
   "execution_count": 171,
   "id": "fe4fbbd1-dddb-46df-bbd0-159f1d0db132",
   "metadata": {},
   "outputs": [
    {
     "name": "stdout",
     "output_type": "stream",
     "text": [
      "16\n"
     ]
    }
   ],
   "source": [
    "#48. find out the index of  third occurrence of given substring\n",
    "s = \"abc def abc ghi abc jkl abc\"\n",
    "sub = \"abc\"\n",
    "n, index = 3, -1\n",
    "\n",
    "for _ in range(n):\n",
    "    index = s.find(sub, index + 1)\n",
    "    if index == -1: break\n",
    "\n",
    "print(index)\n"
   ]
  },
  {
   "cell_type": "code",
   "execution_count": 191,
   "id": "8ea0617c-55bd-4b6d-89d4-bd5a8263eccc",
   "metadata": {},
   "outputs": [
    {
     "name": "stdout",
     "output_type": "stream",
     "text": [
      "hai\n",
      "[1, 2, 3, 2, 3, 4, 1, 3, 4]\n",
      "20\n"
     ]
    }
   ],
   "source": [
    "def m1(a,b):\n",
    "    print(\"hai\")\n",
    "    print(a)\n",
    "    print(b)\n",
    "m1(a,b = 20)"
   ]
  },
  {
   "cell_type": "code",
   "execution_count": 194,
   "id": "482909bf-e51e-4279-801b-963f3d8cdcf4",
   "metadata": {},
   "outputs": [
    {
     "name": "stdout",
     "output_type": "stream",
     "text": [
      "hai\n",
      "[1, 2, 3, 2, 3, 4, 1, 3, 4]\n",
      "20\n"
     ]
    }
   ],
   "source": [
    "def m1(a,b):\n",
    "    print(\"hai\")\n",
    "    print(a)\n",
    "    print(b)\n",
    "m1(a,b = 20)"
   ]
  },
  {
   "cell_type": "code",
   "execution_count": null,
   "id": "0fba43e8-c81e-4cc7-bcb0-4feae3e77536",
   "metadata": {},
   "outputs": [],
   "source": []
  }
 ],
 "metadata": {
  "kernelspec": {
   "display_name": "Python 3 (ipykernel)",
   "language": "python",
   "name": "python3"
  },
  "language_info": {
   "codemirror_mode": {
    "name": "ipython",
    "version": 3
   },
   "file_extension": ".py",
   "mimetype": "text/x-python",
   "name": "python",
   "nbconvert_exporter": "python",
   "pygments_lexer": "ipython3",
   "version": "3.12.4"
  }
 },
 "nbformat": 4,
 "nbformat_minor": 5
}
