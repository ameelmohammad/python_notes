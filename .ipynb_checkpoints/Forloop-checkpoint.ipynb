{
 "cells": [
  {
   "cell_type": "code",
   "execution_count": 3,
   "id": "bb3651dd-aefd-43fc-b1a2-9e2f219c853b",
   "metadata": {},
   "outputs": [
    {
     "name": "stdout",
     "output_type": "stream",
     "text": [
      "[10, 23, 35, 46, 38, 91]\n",
      "[10, 23, 35, 46, 38, 91]\n",
      "[10, 23, 35, 46, 38, 91]\n",
      "[10, 23, 35, 46, 38, 91]\n",
      "[10, 23, 35, 46, 38, 91]\n",
      "[10, 23, 35, 46, 38, 91]\n"
     ]
    }
   ],
   "source": [
    "## For loop\n",
    "num =[10,23,35,46,38,91]\n",
    "for number in num:\n",
    "    print(num)"
   ]
  },
  {
   "cell_type": "code",
   "execution_count": 5,
   "id": "ada782ef-877f-44f7-b14a-94e44a4804b9",
   "metadata": {},
   "outputs": [
    {
     "name": "stdout",
     "output_type": "stream",
     "text": [
      "filesample\n",
      "filesample\n",
      "filesample\n",
      "filesample\n",
      "filesample\n",
      "filesample\n",
      "filesample\n",
      "filesample\n",
      "filesample\n",
      "filesample\n"
     ]
    }
   ],
   "source": [
    "## For loop\n",
    "value =(\"file\" \"sample\")\n",
    "for number in value:\n",
    "    print(value)"
   ]
  },
  {
   "cell_type": "code",
   "execution_count": 9,
   "id": "66c48acf-864b-4907-bfc2-eace184c18b5",
   "metadata": {},
   "outputs": [
    {
     "ename": "TypeError",
     "evalue": "'int' object is not iterable",
     "output_type": "error",
     "traceback": [
      "\u001b[1;31m---------------------------------------------------------------------------\u001b[0m",
      "\u001b[1;31mTypeError\u001b[0m                                 Traceback (most recent call last)",
      "Cell \u001b[1;32mIn[9], line 2\u001b[0m\n\u001b[0;32m      1\u001b[0m value \u001b[38;5;241m=\u001b[39m\u001b[38;5;28mint\u001b[39m(\u001b[38;5;241m11\u001b[39m)\n\u001b[1;32m----> 2\u001b[0m \u001b[38;5;28;01mfor\u001b[39;00m number \u001b[38;5;129;01min\u001b[39;00m value:\n\u001b[0;32m      3\u001b[0m     \u001b[38;5;28mprint\u001b[39m(value)\n",
      "\u001b[1;31mTypeError\u001b[0m: 'int' object is not iterable"
     ]
    }
   ],
   "source": [
    "value =int(11)\n",
    "for number in value:\n",
    "    print(value)"
   ]
  },
  {
   "cell_type": "code",
   "execution_count": 11,
   "id": "d3ee67af-8805-4d04-96dd-37d54e88196f",
   "metadata": {},
   "outputs": [
    {
     "name": "stdout",
     "output_type": "stream",
     "text": [
      "[1, 4, 5]\n",
      "[1, 4, 5]\n",
      "[1, 4, 5]\n"
     ]
    }
   ],
   "source": [
    "value =[1,4,5]\n",
    "for number in value:\n",
    "    print(value)"
   ]
  },
  {
   "cell_type": "code",
   "execution_count": 13,
   "id": "0369eeff-18bf-45f5-ac06-c57bd76be9ee",
   "metadata": {},
   "outputs": [
    {
     "ename": "TypeError",
     "evalue": "'bool' object is not iterable",
     "output_type": "error",
     "traceback": [
      "\u001b[1;31m---------------------------------------------------------------------------\u001b[0m",
      "\u001b[1;31mTypeError\u001b[0m                                 Traceback (most recent call last)",
      "Cell \u001b[1;32mIn[13], line 1\u001b[0m\n\u001b[1;32m----> 1\u001b[0m \u001b[38;5;28;01mfor\u001b[39;00m number \u001b[38;5;129;01min\u001b[39;00m \u001b[38;5;28;01mFalse\u001b[39;00m:\n\u001b[0;32m      2\u001b[0m     \u001b[38;5;28mprint\u001b[39m(value)\n",
      "\u001b[1;31mTypeError\u001b[0m: 'bool' object is not iterable"
     ]
    }
   ],
   "source": [
    "for number in False:\n",
    "    print(value)"
   ]
  },
  {
   "cell_type": "code",
   "execution_count": 15,
   "id": "2e820f57-d6aa-4143-b0be-9a81c22decca",
   "metadata": {},
   "outputs": [
    {
     "ename": "TypeError",
     "evalue": "'NoneType' object is not iterable",
     "output_type": "error",
     "traceback": [
      "\u001b[1;31m---------------------------------------------------------------------------\u001b[0m",
      "\u001b[1;31mTypeError\u001b[0m                                 Traceback (most recent call last)",
      "Cell \u001b[1;32mIn[15], line 1\u001b[0m\n\u001b[1;32m----> 1\u001b[0m \u001b[38;5;28;01mfor\u001b[39;00m number \u001b[38;5;129;01min\u001b[39;00m \u001b[38;5;28;01mNone\u001b[39;00m:\n\u001b[0;32m      2\u001b[0m     \u001b[38;5;28mprint\u001b[39m(value)\n",
      "\u001b[1;31mTypeError\u001b[0m: 'NoneType' object is not iterable"
     ]
    }
   ],
   "source": [
    "for number in None:\n",
    "    print(value)"
   ]
  },
  {
   "cell_type": "code",
   "execution_count": 17,
   "id": "8878754f-ada6-4d77-b556-21cbb1ecdb92",
   "metadata": {},
   "outputs": [
    {
     "ename": "TypeError",
     "evalue": "'float' object is not iterable",
     "output_type": "error",
     "traceback": [
      "\u001b[1;31m---------------------------------------------------------------------------\u001b[0m",
      "\u001b[1;31mTypeError\u001b[0m                                 Traceback (most recent call last)",
      "Cell \u001b[1;32mIn[17], line 1\u001b[0m\n\u001b[1;32m----> 1\u001b[0m \u001b[38;5;28;01mfor\u001b[39;00m number \u001b[38;5;129;01min\u001b[39;00m \u001b[38;5;241m12.5\u001b[39m:\n\u001b[0;32m      2\u001b[0m     \u001b[38;5;28mprint\u001b[39m(value)\n",
      "\u001b[1;31mTypeError\u001b[0m: 'float' object is not iterable"
     ]
    }
   ],
   "source": [
    "for number in 12.5:\n",
    "    print(value)"
   ]
  },
  {
   "cell_type": "code",
   "execution_count": 19,
   "id": "b65a101f-bd0c-4216-82bd-ba883b64eab3",
   "metadata": {},
   "outputs": [
    {
     "ename": "TypeError",
     "evalue": "'int' object is not iterable",
     "output_type": "error",
     "traceback": [
      "\u001b[1;31m---------------------------------------------------------------------------\u001b[0m",
      "\u001b[1;31mTypeError\u001b[0m                                 Traceback (most recent call last)",
      "Cell \u001b[1;32mIn[19], line 1\u001b[0m\n\u001b[1;32m----> 1\u001b[0m \u001b[38;5;28;01mfor\u001b[39;00m number \u001b[38;5;129;01min\u001b[39;00m \u001b[38;5;241m12\u001b[39m:\n\u001b[0;32m      2\u001b[0m     \u001b[38;5;28mprint\u001b[39m(value)\n",
      "\u001b[1;31mTypeError\u001b[0m: 'int' object is not iterable"
     ]
    }
   ],
   "source": [
    "for number in 12:\n",
    "    print(value)"
   ]
  },
  {
   "cell_type": "code",
   "execution_count": 29,
   "id": "380b13cf-35f0-4758-87c6-062f17328efc",
   "metadata": {},
   "outputs": [
    {
     "name": "stdout",
     "output_type": "stream",
     "text": [
      "name\n",
      "address\n"
     ]
    }
   ],
   "source": [
    "value = {\"name\":\"A\", \"address\":\"HYD\"}\n",
    "for number in value:\n",
    "    print(number)"
   ]
  },
  {
   "cell_type": "code",
   "execution_count": 27,
   "id": "1c19ab68-3fc4-4f6c-84f7-b98a3319a4ec",
   "metadata": {},
   "outputs": [
    {
     "name": "stdout",
     "output_type": "stream",
     "text": [
      "hello\n"
     ]
    }
   ],
   "source": [
    "for number in []:\n",
    "    print(value)\n",
    "print(\"hello\")\n"
   ]
  },
  {
   "cell_type": "code",
   "execution_count": 33,
   "id": "d78e0095-e7a0-449a-a5d6-6581d503cf83",
   "metadata": {},
   "outputs": [
    {
     "name": "stdout",
     "output_type": "stream",
     "text": [
      "10 +ve\n",
      "-5 -VE\n",
      "6 +ve\n",
      "-10 -VE\n",
      "9 +ve\n",
      "0 +ve\n",
      "Done\n"
     ]
    }
   ],
   "source": [
    "numbers = [10,-5,6,-10,9,0]\n",
    "for num in numbers:\n",
    "    if num>=0:\n",
    "        print(num,\"+ve\")\n",
    "    else:\n",
    "        print(num,\"-VE\")\n",
    "print(\"Done\")\n",
    "        "
   ]
  },
  {
   "cell_type": "code",
   "execution_count": 39,
   "id": "5d29ad6c-6843-48a8-8c89-6f00c954efdf",
   "metadata": {},
   "outputs": [
    {
     "name": "stdout",
     "output_type": "stream",
     "text": [
      "4\n",
      "2\n"
     ]
    }
   ],
   "source": [
    "numbers = [10,-5,6,-10,9,0]\n",
    "p_n=0\n",
    "n_n=0\n",
    "for num in numbers:\n",
    "    if num>=0:\n",
    "        p_n=p_n+1\n",
    "    else:\n",
    "        n_n=n_n+1\n",
    "print(p_n)\n",
    "print(n_n)"
   ]
  },
  {
   "cell_type": "code",
   "execution_count": 1,
   "id": "4ad42b59-1d66-438e-a1cf-30bf72a5de47",
   "metadata": {},
   "outputs": [
    {
     "name": "stdout",
     "output_type": "stream",
     "text": [
      "Hi\n",
      "hello\n"
     ]
    }
   ],
   "source": [
    "for i in \"1234\":\n",
    "    if i==\"2\":\n",
    "        print(\"Hi\")\n",
    "print(\"hello\")"
   ]
  },
  {
   "cell_type": "code",
   "execution_count": 3,
   "id": "702ea2e7-662d-47b2-9166-93b5f262e09d",
   "metadata": {},
   "outputs": [
    {
     "name": "stdout",
     "output_type": "stream",
     "text": [
      "hello\n"
     ]
    }
   ],
   "source": [
    "for i in \"1234\":\n",
    "    break\n",
    "    if i==\"2\":\n",
    "        print(\"Hi\")\n",
    "print(\"hello\")"
   ]
  },
  {
   "cell_type": "code",
   "execution_count": 9,
   "id": "44274a10-2b37-452b-af52-7514547ebd9d",
   "metadata": {},
   "outputs": [
    {
     "name": "stdout",
     "output_type": "stream",
     "text": [
      "How are you\n",
      "Hi\n",
      "Hi\n",
      "How are you\n",
      "hello\n"
     ]
    }
   ],
   "source": [
    "for i in \"1234\":\n",
    "    if i in\"23\":\n",
    "        print(\"Hi\")\n",
    "    else:\n",
    "        print(\"How are you\")\n",
    "print(\"hello\")"
   ]
  },
  {
   "cell_type": "code",
   "execution_count": 11,
   "id": "d942a954-2af1-48a9-802c-d305f482780b",
   "metadata": {},
   "outputs": [
    {
     "name": "stdout",
     "output_type": "stream",
     "text": [
      "How are you\n",
      "hello\n"
     ]
    }
   ],
   "source": [
    "for i in \"1234\":\n",
    "    if i in\"23\":\n",
    "        print(\"Hi\")\n",
    "    else:\n",
    "        print(\"How are you\")\n",
    "        break\n",
    "print(\"hello\")"
   ]
  },
  {
   "cell_type": "code",
   "execution_count": 13,
   "id": "8be23431-f372-4a8d-a7e0-b303280de989",
   "metadata": {},
   "outputs": [
    {
     "name": "stdout",
     "output_type": "stream",
     "text": [
      "How are you\n",
      "Hi\n",
      "hello\n"
     ]
    }
   ],
   "source": [
    "for i in \"1234\":\n",
    "    if i in\"23\":\n",
    "        print(\"Hi\")\n",
    "        break\n",
    "    else:\n",
    "        print(\"How are you\")\n",
    "print(\"hello\")"
   ]
  },
  {
   "cell_type": "code",
   "execution_count": 15,
   "id": "28e5269e-8ed1-4af1-8cba-95e5aa85c87b",
   "metadata": {},
   "outputs": [
    {
     "name": "stdout",
     "output_type": "stream",
     "text": [
      "How are you\n",
      "hello\n"
     ]
    }
   ],
   "source": [
    "for i in \"1234\":\n",
    "    if i in\"23\":\n",
    "        print(\"Hi\")\n",
    "    else:\n",
    "        print(\"How are you\")\n",
    "    break\n",
    "print(\"hello\")"
   ]
  },
  {
   "cell_type": "code",
   "execution_count": 46,
   "id": "b4bf7c2b-599e-4d0a-ba96-2211204062ea",
   "metadata": {},
   "outputs": [
    {
     "name": "stdout",
     "output_type": "stream",
     "text": [
      "3\n"
     ]
    }
   ],
   "source": [
    "l =[10,-20,-30,45,67,-56]\n",
    "# print each num +ve \n",
    "# how many +ve num are there\n",
    "# does it has -Ve numb\n",
    "i_n=0\n",
    "for i in l:\n",
    "    if i>=0:\n",
    "        i_n=i_n+1\n",
    "print(i_n)"
   ]
  },
  {
   "cell_type": "code",
   "execution_count": 54,
   "id": "58dcf7d5-060f-4124-a64e-d6af6f45de5f",
   "metadata": {},
   "outputs": [
    {
     "name": "stdout",
     "output_type": "stream",
     "text": [
      "3 -ve num\n"
     ]
    }
   ],
   "source": [
    "l =[10,-20,-30,45,67,-56]\n",
    "# print each num +ve \n",
    "# how many +ve num are there\n",
    "# does it has -Ve numb\n",
    "i_n=0\n",
    "for i in l:\n",
    "    if i<0:\n",
    "        i_n=i_n+1\n",
    "print(i_n, \"-ve num\")"
   ]
  },
  {
   "cell_type": "code",
   "execution_count": null,
   "id": "b9d09942-5427-4806-b90c-df38bfa37df1",
   "metadata": {},
   "outputs": [],
   "source": [
    "l =[10,-20,-30,45,67,-56]\n",
    "# print each num +ve \n",
    "# how many +ve num are there\n",
    "# does it has -Ve numb\n",
    "i_n=0\n",
    "for i in l:\n",
    "    print(i_n)\n",
    "    if i<0:\n",
    "        i_n=i_n+1\n",
    "if i_n==0:\n",
    "    print(\"it doesnothas -ve num\")\n",
    "else:\n",
    "print(i_n, \"-ve num\""
   ]
  }
 ],
 "metadata": {
  "kernelspec": {
   "display_name": "Python 3 (ipykernel)",
   "language": "python",
   "name": "python3"
  },
  "language_info": {
   "codemirror_mode": {
    "name": "ipython",
    "version": 3
   },
   "file_extension": ".py",
   "mimetype": "text/x-python",
   "name": "python",
   "nbconvert_exporter": "python",
   "pygments_lexer": "ipython3",
   "version": "3.12.4"
  }
 },
 "nbformat": 4,
 "nbformat_minor": 5
}
