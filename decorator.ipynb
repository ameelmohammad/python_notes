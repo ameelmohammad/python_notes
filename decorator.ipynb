{
 "cells": [
  {
   "cell_type": "code",
   "execution_count": 1,
   "id": "9d763b7a-52a0-45a2-aa4b-381363fcc986",
   "metadata": {},
   "outputs": [
    {
     "name": "stdout",
     "output_type": "stream",
     "text": [
      "hello\n",
      "<function fun at 0x0000021ED4DFEFC0> 20\n"
     ]
    }
   ],
   "source": [
    "def fun():\n",
    "    print(\"hello\")\n",
    "    return 20\n",
    "res =fun\n",
    "res1 = fun()\n",
    "print(res,res1)"
   ]
  },
  {
   "cell_type": "code",
   "execution_count": 3,
   "id": "34abd8c6-ed77-4640-9f17-7a1938f1677e",
   "metadata": {},
   "outputs": [
    {
     "name": "stdout",
     "output_type": "stream",
     "text": [
      "hello\n",
      "<function fun at 0x0000021ED4DFF6A0> 20\n",
      "hello\n"
     ]
    }
   ],
   "source": [
    "def fun():\n",
    "    print(\"hello\")\n",
    "    return 20\n",
    "res =fun\n",
    "res1 = fun()\n",
    "print(res,res1)\n",
    "r1 =res()"
   ]
  },
  {
   "cell_type": "code",
   "execution_count": 5,
   "id": "2ebe964b-5522-4cdb-a0d9-ba38fb69fbef",
   "metadata": {},
   "outputs": [
    {
     "name": "stdout",
     "output_type": "stream",
     "text": [
      "hi\n",
      "hello\n",
      "<function fun at 0x0000021ED4E700E0> 20\n",
      "hi\n",
      "hello\n"
     ]
    }
   ],
   "source": [
    "def fun():\n",
    "    print(\"hi\")\n",
    "    print(\"hello\")\n",
    "    return 20\n",
    "res =fun\n",
    "res1 = fun()\n",
    "print(res,res1)\n",
    "r1 =res()"
   ]
  },
  {
   "cell_type": "code",
   "execution_count": 9,
   "id": "3a4f4626-5aff-4f1e-bbad-b5938ed43a83",
   "metadata": {},
   "outputs": [
    {
     "name": "stdout",
     "output_type": "stream",
     "text": [
      "hi\n",
      "hello\n",
      "1000\n",
      "result 50\n"
     ]
    }
   ],
   "source": [
    "def fun():\n",
    "    print(\"hi\")\n",
    "    print(\"hello\")\n",
    "    a=1000\n",
    "    print(a)\n",
    "    return 20 +30\n",
    "res =fun()\n",
    "print(\"result\",res)\n"
   ]
  },
  {
   "cell_type": "code",
   "execution_count": 11,
   "id": "f315b104-9a6e-4657-9a98-01b59952a3e5",
   "metadata": {},
   "outputs": [
    {
     "name": "stdout",
     "output_type": "stream",
     "text": [
      "hi\n",
      "hello\n",
      "1000\n",
      "result 50\n",
      "result <function fun at 0x0000021ED4DFF740>\n"
     ]
    }
   ],
   "source": [
    "def fun():\n",
    "    print(\"hi\")\n",
    "    print(\"hello\")\n",
    "    a=1000\n",
    "    print(a)\n",
    "    return 20 +30\n",
    "res =fun()\n",
    "print(\"result\",res)\n",
    "res1 =fun\n",
    "print(\"result1\",res1)"
   ]
  },
  {
   "cell_type": "code",
   "execution_count": 13,
   "id": "4282ca8c-1b4a-4ae3-a0f2-e136e455794f",
   "metadata": {},
   "outputs": [
    {
     "name": "stdout",
     "output_type": "stream",
     "text": [
      "hi\n",
      "hello\n",
      "1000\n",
      "result 50\n",
      "result1 <function fun at 0x0000021ED6503EC0>\n",
      "result2 <function fun at 0x0000021ED6503EC0>\n"
     ]
    }
   ],
   "source": [
    "def fun():\n",
    "    print(\"hi\")\n",
    "    print(\"hello\")\n",
    "    a=1000\n",
    "    print(a)\n",
    "    return 20 +30\n",
    "res =fun()\n",
    "print(\"result\",res)\n",
    "res1 =fun\n",
    "print(\"result1\",res1)\n",
    "res2 =fun\n",
    "print(\"result2\",res1)"
   ]
  },
  {
   "cell_type": "code",
   "execution_count": 15,
   "id": "57f9c4a4-4fd3-42fb-aaed-83467f51a92a",
   "metadata": {},
   "outputs": [
    {
     "name": "stdout",
     "output_type": "stream",
     "text": [
      "hyd\n",
      "hello\n",
      "result= <function outer.<locals>.inner at 0x0000021ED4DFFA60>\n"
     ]
    }
   ],
   "source": [
    "def outer():\n",
    "    print(\"hyd\")\n",
    "    def inner():\n",
    "        print(\"hi\")\n",
    "        return 20\n",
    "    print(\"hello\")\n",
    "    return inner\n",
    "res =outer()\n",
    "print(\"result=\",res)"
   ]
  },
  {
   "cell_type": "code",
   "execution_count": 8,
   "id": "d7b6658e-fa5b-473a-8642-78f68baee8f5",
   "metadata": {},
   "outputs": [
    {
     "name": "stdout",
     "output_type": "stream",
     "text": [
      "this is operation\n",
      "x=2, y=4\n",
      "results= -2\n",
      "r1= None\n",
      "this is operation\n",
      "x=4, y=5\n",
      "results= 9\n",
      "r2= None\n"
     ]
    }
   ],
   "source": [
    "def add(x,y):\n",
    "    print(f\"x={x}, y={y}\")\n",
    "    return x+y\n",
    "def sub(x,y):\n",
    "    print(f\"x={x}, y={y}\")\n",
    "    return x-y\n",
    "def operation(fun,a,b):\n",
    "     print(\"this is operation\")\n",
    "     res=fun(a,b)\n",
    "     print(\"results=\",res)\n",
    "r1=operation(sub,2,4)\n",
    "print(\"r1=\",r1)\n",
    "r2=operation(add,4,5)\n",
    "print(\"r2=\",r2)"
   ]
  },
  {
   "cell_type": "code",
   "execution_count": null,
   "id": "b26b3ca2-bff7-4c99-aef3-50d476ab2996",
   "metadata": {},
   "outputs": [],
   "source": []
  }
 ],
 "metadata": {
  "kernelspec": {
   "display_name": "Python 3 (ipykernel)",
   "language": "python",
   "name": "python3"
  },
  "language_info": {
   "codemirror_mode": {
    "name": "ipython",
    "version": 3
   },
   "file_extension": ".py",
   "mimetype": "text/x-python",
   "name": "python",
   "nbconvert_exporter": "python",
   "pygments_lexer": "ipython3",
   "version": "3.12.4"
  }
 },
 "nbformat": 4,
 "nbformat_minor": 5
}
