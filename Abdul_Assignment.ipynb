{
 "cells": [
  {
   "cell_type": "code",
   "execution_count": null,
   "id": "5f83a118-3a50-4a2c-ab62-de4fa89526bb",
   "metadata": {},
   "outputs": [],
   "source": [
    "# 1.Take the input from the user for(Total number of people,Number of seats for bus. Based on two inputs Decide how many number of buses required\n",
    "No_of_seats = int(input('seats'))\n",
    "No_of_people = int(input('people'))\n",
    "no_of_buses_needed = No_of_people // No_of_seats\n",
    "print(no_of_buses_needed)"
   ]
  },
  {
   "cell_type": "markdown",
   "id": "d2dd525f-e703-4d18-9d8c-2f0d6d8fa39a",
   "metadata": {},
   "source": [
    "# take temperature from the user and convert foreign heat -> Celsius.\n",
    "foriegnheat=float(97.5)\n",
    "celsius= (foriegnheat-32)*5/9\n",
    "print(f\"Temperature in Celsius: {celsius:.2f}°C\")\n"
   ]
  },
  {
   "cell_type": "markdown",
   "id": "5574bdeb-cbe9-4665-988f-a098441366a1",
   "metadata": {},
   "source": [
    "# Take temperature from the user and convert Celsius → foreign heat\n",
    "celusis = float(37.59)\n",
    "foriegnheat = (celsius * 9 / 5) + 32\n",
    "print(f\"temperature in foriegnheat: {foriegnheat:.2f}°F\")"
   ]
  },
  {
   "cell_type": "markdown",
   "id": "2d6c839e-a454-46e1-ae0e-011d05b19b18",
   "metadata": {},
   "source": [
    "# take four number from the user (variables name it as x1,x2,x3,x4)  Do the below operations (x1+x2)**2, (x3+x4)**3\n",
    "# variance\n",
    "# standard deviation: sqrt(variance):  User math module. Math.sqrt(variance)\n",
    "# Regression\n",
    "# \ty=mx+b\n",
    "#          m=1.23\n",
    " #         b=0.045\n",
    " #          find out y\n",
    "  #        y=m*(x1+x2+x3+x4)+b\n",
    "   #Find the average of four numbers Find the sum of four numbers\n",
    "x1 = float(input(\"x1 :\"))\n",
    "x2 = float(input(\"x2 :\"))\n",
    "x3 = float(input(\"x3 :\"))\n",
    "x4 = float(input(\"x4 :\"))\n",
    "opeartion = (x1 + x2)**2\n",
    "operation = (x3 + x4)**2\n",
    "numbers = [x1,x2,x3,x4]\n",
    "mean = sum (numbers) / len (numbers)\n",
    "variance = sum((x-mean) ** 2 "
   ]
  },
  {
   "cell_type": "code",
   "execution_count": null,
   "id": "6b100b33-a266-4bfc-a558-54dc93d57b28",
   "metadata": {},
   "outputs": [],
   "source": [
    "# Take the distance in km Show that in cm, meters, in milli meters, cents, feets, yards\n",
    "meters = km * 1000\n",
    "centimeters = km * 100000\n",
    "millimeters = km * 1000000\n"
   ]
  },
  {
   "cell_type": "markdown",
   "id": "7cc0fb44-78c8-4136-860b-34e63516c0a5",
   "metadata": {},
   "source": [
    "# take temperature from the user and convert foreign heat -> Celsius.\n",
    "foriegnheat=float(input(\"enter value in foriegnheat:\"))\n",
    "celsius= (foriegnheat-32)*5/9\n",
    "print(f\"Temperature in Celsius: {celsius:}°C\")"
   ]
  },
  {
   "cell_type": "code",
   "execution_count": 5,
   "id": "f5dc5c9a-90ce-481d-9020-5cf38e41a6eb",
   "metadata": {},
   "outputs": [
    {
     "name": "stdin",
     "output_type": "stream",
     "text": [
      "enter a value celusis: 38.5\n"
     ]
    },
    {
     "name": "stdout",
     "output_type": "stream",
     "text": [
      "temperature in foriegnheat: 100.70°F\n"
     ]
    }
   ],
   "source": [
    "celusis = float(input(\"enter a value celusis:\"))\n",
    "foriegnheat = (celsius * 9 / 5) + 32\n",
    "print(f\"temperature in foriegnheat: {foriegnheat:.2f}°F\")"
   ]
  },
  {
   "cell_type": "markdown",
   "id": "4b002907-1ad0-4873-9089-82cc9df97c4d",
   "metadata": {},
   "source": [
    "# Take the distance in km Show that in cm, meters, in milli meters, cents, feets, yards\n",
    "kilometers = int(input(\"Enter the value in Kms:\"))\n",
    "meters = kilometers * 1000\n",
    "centimeters = kilometers * 100000\n",
    "millimeters = kilometers * 1000000\n",
    "feet = kilometers * 3280.84  # feet\n",
    "yards = kilometers * 1093.61  # yards\n",
    "cents = kilometers * 247.105  # cents (land area)\n",
    "print(\"meters\",meters)\n",
    "print(\"centimeters\",centimeters)\n",
    "print(\"millimeters\",millimeters)\n",
    "print(\"feet\",feet)\n",
    "print(\"yards\",yards)\n",
    "print(\"cents\",cents)"
   ]
  },
  {
   "cell_type": "markdown",
   "id": "405e4b48-9138-47e0-aaed-e72dcd6fe8b0",
   "metadata": {},
   "source": [
    "# Take the size of your hard disk in GB Show that in MB, KB, TB, PB\n",
    "GB = int(input(\"enter a gb value\"))\n",
    "MB = GB*1024\n",
    "KB = GB*1024*1024\n",
    "TB=GB/1024\n",
    "PB=GB/(1024*1024)\n",
    "print(MB)\n",
    "print(KB)\n",
    "print(TB)\n",
    "print(PB)\n"
   ]
  },
  {
   "cell_type": "markdown",
   "id": "0e305ed8-0bb0-408c-87b2-6ab7304e272f",
   "metadata": {},
   "source": [
    "# .  Take name, age, height from the user and print like below The details of the person: Name:name of the person, Age:age of the person, Height:height of the person\n",
    "#Note: make sure that no space between : and a value and should be space after “COMA”\n",
    "Name = str(input(\"Enter a name:\"))\n",
    "age = int(input(\"enter your age:\"))\n",
    "height = float(input(\"enter your height:\"))\n",
    "print(\"Name:\", Name + \"age:\",age + \"height:\",height),\n",
    "print(\"age:\",age),\n",
    "print(\"height:\",height)"
   ]
  },
  {
   "cell_type": "markdown",
   "id": "b19a6b84-7c20-4a64-9464-9c77930afe79",
   "metadata": {},
   "source": [
    "# .  Take name, age, height from the user and print like below The details of the person: Name:name of the person, Age:age of the person, Height:height of the person\n",
    "#Note: make sure that no space between : and a value and should be space after “COMA”\n",
    "Name = str(input(\"Enter a name:\"))\n",
    "age = int(input(\"enter your age:\"))\n",
    "height = float(input(\"enter your height:\"))\n",
    "print(\"Name:\", Name , \"age:\",age , \"height:\",height)\n"
   ]
  },
  {
   "cell_type": "markdown",
   "id": "8f939337-dda8-4964-a1c6-168b4600223f",
   "metadata": {},
   "source": [
    "# .  Take name, age, height from the user and print like below The details of the person: Name:name of the person, Age:age of the person, Height:height of the person\n",
    "#Note: make sure that no space between : and a value and should be space after “COMA”\n",
    "Name = str(input(\"Enter a name:\"))\n",
    "age = int(input(\"enter your age:\"))\n",
    "height = float(input(\"enter your height:\"))\n",
    "print(f\"Name: \",Name,\",\" ,\"age:\",age,\",\",\"height:\",height)"
   ]
  },
  {
   "cell_type": "markdown",
   "id": "fa9da436-ab2f-4bb3-b139-38477326ac22",
   "metadata": {},
   "source": [
    "# .  Take name, age, height from the user and print like below The details of the person: Name:name of the person, Age:age of the person, Height:height of the person\n",
    "#Note: make sure that no space between : and a value and should be space after “COMA”\n",
    "Name = str(input(\"Enter a name:\"))\n",
    "age = int(input(\"enter your age:\"))\n",
    "height = float(input(\"enter your height:\"))\n",
    "print(f\"Name:{Name}, age:{age}, height:{height}\")"
   ]
  },
  {
   "cell_type": "markdown",
   "id": "c89b557a-1719-48d9-8982-60a90ab84402",
   "metadata": {},
   "source": [
    "# BMI calculation: take required parameters for BMI calculation from the user and calculate BMI of the person\n",
    "weight = float(input(\"enter weight:\"))\n",
    "height = float(input(\"enter height:\"))\n",
    "bmi = weight / (height ** 2)\n",
    "print(\"bmi\",bmi)"
   ]
  },
  {
   "cell_type": "markdown",
   "id": "c6af8fdb-0e8e-4318-9c73-d6f78684f1d6",
   "metadata": {},
   "source": [
    "# BMI calculation: take required parameters for BMI calculation from the user and calculate BMI of the person\n",
    "weight = float(input(\"enter weight:\"))\n",
    "height = float(input(\"enter height:\"))\n",
    "bmi = weight / (height ** 2)\n",
    "print(f\"bmi:{bmi:.2f}\")"
   ]
  },
  {
   "cell_type": "markdown",
   "id": "cc9c2098-3cc7-465e-ad1a-dde73eb02fe8",
   "metadata": {},
   "source": [
    "# # name=\"Jayaram\"\n",
    "# age=1.6\n",
    "# height=3.5356234\n",
    "# weight=10.343856783\n",
    "# By using above inputs print the output\n",
    "# Name:Jayaram, Age:1.6, Height:3.54, Weight:10.344  Note: Use format specifiers(%s, %d, %f)\n",
    "Name = str(input(\"Enter a name:\"))\n",
    "age = float(input(\"enter your age:\"))\n",
    "height = float(input(\"enter your height:\"))\n",
    "weight = float(input(\"enter your weight:\"))\n",
    "print(\"Name:%s, age:%f, height:%f, weight:%f\"%(Name,age,height,weight))"
   ]
  },
  {
   "cell_type": "markdown",
   "id": "9f7975e7-48bf-4cf3-9072-1f56235e5b3e",
   "metadata": {},
   "source": [
    "# Take three upper case letters from the user convert in to small case.\n",
    "user =input(\"Enter a name in uppercase:\")\n",
    "print(user, type(user))\n",
    "print(user.lower())\n",
    "print(user.swapcase())\n"
   ]
  },
  {
   "cell_type": "markdown",
   "id": "ce16cd8a-e6fa-46be-b644-1d13e83254cd",
   "metadata": {},
   "source": [
    "# take base and exponent value from the user and print like in mathematics:\n",
    "#   example: base=2, exponent=3: 23\n",
    "# Use: 2\\u00b3\n",
    "base = int(input(\"enter a base value:\"))\n",
    "exponent = int(input(\"enter a exponent value:\"))\n",
    "print(f\"{base}\\u00b{exponent}\")"
   ]
  },
  {
   "cell_type": "markdown",
   "id": "69127a9d-030d-40e2-aa12-345b9c5c3a70",
   "metadata": {},
   "source": [
    "# Take some groceries cost prices and print total cost and average cost, what is the max cost, what is the minimum cost.\n",
    "groceries = [10,57,45,38]\n",
    "print(\"max:\",max(groceries))\n",
    "print(\"min:\",min(groceries))\n",
    "groceries_sum=sum(groceries)\n",
    "print(\"sum:\",groceries_sum,)\n",
    "count_groceries=len(groceries)\n",
    "print(\"count:\",count_groceries,)\n",
    "avg = groceries_sum / count_groceries\n",
    "print(\"avg:\",avg)\n"
   ]
  },
  {
   "cell_type": "markdown",
   "id": "3f6cbffa-a0f3-4359-b7b2-3f22c1056655",
   "metadata": {},
   "source": [
    "# take four number from the user (variables name it as x1,x2,x3,x4)\n",
    "#  Do the below operations\n",
    "#  (x1+x2)**2, (x3+x4)**3\n",
    "# variance\n",
    "# standard deviation: sqrt(variance):  User math module. Math.sqrt(variance)\n",
    "# Regression\n",
    "# \ty=mx+b\n",
    "#           m=1.23\n",
    "\n",
    "#           b=0.045\n",
    "#           find out y\n",
    "#           y=m*(x1+x2+x3+x4)+b\n",
    "#  Find the average of four numbers\n",
    "# Find the sum of four numbers\n",
    "x = input(\"enter a value with Comma separate:\")\n",
    "# print(dir(x))\n",
    "ls = x.split(\",\")\n",
    "print(ls)\n",
    "int_ls = list(map(int,ls))\n",
    "print(int_list)\n",
    "m= 1.23\n",
    "b = 0.045\n",
    "# y = mx+c\n",
    "y = m*(sum(int_list))+b\n",
    "print(y)\n",
    "\n",
    "x1 = int_ls[0]\n",
    "x2 = int_ls[1]\n",
    "x3 = int_ls[2]\n",
    "x4 = int_ls[3]\n",
    "print((x1+x2)**2)\n",
    "print((x3+x4)**3)\n",
    "\n",
    "\n",
    "import math\n",
    "varience = 1\n",
    "# print(dir(math))9\n",
    "standard_dev = math.sqrt(varience)\n",
    "print(standard_dev)\n",
    "\n"
   ]
  },
  {
   "cell_type": "code",
   "execution_count": null,
   "id": "3491abe0-b9d2-4b0d-91ed-fb23c1bad7e8",
   "metadata": {},
   "outputs": [],
   "source": [
    "\n"
   ]
  }
 ],
 "metadata": {
  "kernelspec": {
   "display_name": "Python 3 (ipykernel)",
   "language": "python",
   "name": "python3"
  },
  "language_info": {
   "codemirror_mode": {
    "name": "ipython",
    "version": 3
   },
   "file_extension": ".py",
   "mimetype": "text/x-python",
   "name": "python",
   "nbconvert_exporter": "python",
   "pygments_lexer": "ipython3",
   "version": "3.12.4"
  }
 },
 "nbformat": 4,
 "nbformat_minor": 5
}
